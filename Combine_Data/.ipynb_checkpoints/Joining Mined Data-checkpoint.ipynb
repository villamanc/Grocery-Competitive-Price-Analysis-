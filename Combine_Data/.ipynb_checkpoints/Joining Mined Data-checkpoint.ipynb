{
 "cells": [
  {
   "cell_type": "code",
   "execution_count": 1,
   "id": "94c1c3f8",
   "metadata": {},
   "outputs": [],
   "source": [
    "import pandas as pd \n",
    "import os\n",
    "import glob\n",
    "\n",
    "data_frames = []\n",
    "Store_list = []\n",
    "\n",
    "for file in glob.glob(os.getcwd() + \"\\*.xlsx\"): #for all the excel files in the directory create a list of store names, and data frames\n",
    "    df = pd.read_excel(file)\n",
    "    df = df.loc[:, ~df.columns.str.contains('^Unnamed')]\n",
    "    data_frames.append(df)\n",
    "    Store_list.append('_'+file.rsplit('\\\\')[-1].rsplit('_')[0])\n",
    "\n",
    "  \n",
    "int_df = data_frames[0]\n",
    "int_df = int_df.drop('Store', axis=1)\n",
    "for num, frame in enumerate(data_frames[1:], 1): #combine all data frames from list, and inner join them. \n",
    "    frame = frame.drop('Store', axis=1)\n",
    "    int_df = pd.merge(int_df,frame, how ='inner', on =['Title','Quantities','Item'],suffixes=('', Store_list[num]))\n",
    "    int_df = int_df.drop_duplicates()\n",
    "    \n",
    "\n",
    "int_df.to_excel(os.getcwd()+\"\\\\All_Stores_Inner_Joined.xlsx\")"
   ]
  }
 ],
 "metadata": {
  "kernelspec": {
   "display_name": "Python 3 (ipykernel)",
   "language": "python",
   "name": "python3"
  },
  "language_info": {
   "codemirror_mode": {
    "name": "ipython",
    "version": 3
   },
   "file_extension": ".py",
   "mimetype": "text/x-python",
   "name": "python",
   "nbconvert_exporter": "python",
   "pygments_lexer": "ipython3",
   "version": "3.9.12"
  }
 },
 "nbformat": 4,
 "nbformat_minor": 5
}
